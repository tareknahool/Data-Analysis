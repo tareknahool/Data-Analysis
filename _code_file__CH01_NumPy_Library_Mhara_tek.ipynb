{
  "nbformat": 4,
  "nbformat_minor": 0,
  "metadata": {
    "kernelspec": {
      "display_name": "Python 3",
      "language": "python",
      "name": "python3"
    },
    "language_info": {
      "codemirror_mode": {
        "name": "ipython",
        "version": 3
      },
      "file_extension": ".py",
      "mimetype": "text/x-python",
      "name": "python",
      "nbconvert_exporter": "python",
      "pygments_lexer": "ipython3",
      "version": "3.7.4"
    },
    "colab": {
      "name": "_code file _CH01_NumPy_Library - Mhara tek.ipynb",
      "provenance": [],
      "include_colab_link": true
    }
  },
  "cells": [
    {
      "cell_type": "markdown",
      "metadata": {
        "id": "view-in-github",
        "colab_type": "text"
      },
      "source": [
        "<a href=\"https://colab.research.google.com/github/tareknahool/Data-Analysis/blob/master/_code_file__CH01_NumPy_Library_Mhara_tek.ipynb\" target=\"_parent\"><img src=\"https://colab.research.google.com/assets/colab-badge.svg\" alt=\"Open In Colab\"/></a>"
      ]
    },
    {
      "cell_type": "code",
      "metadata": {
        "id": "zNzagV4XQWbX",
        "colab_type": "code",
        "colab": {}
      },
      "source": [
        "import numpy as np"
      ],
      "execution_count": 1,
      "outputs": []
    },
    {
      "cell_type": "code",
      "metadata": {
        "id": "6yE8PKgmQWbi",
        "colab_type": "code",
        "colab": {
          "base_uri": "https://localhost:8080/",
          "height": 34
        },
        "outputId": "bc616362-2bf4-4a3d-d82f-ae749f5850f5"
      },
      "source": [
        "my_array=np.array([10,20,30,40])\n",
        "print(my_array)"
      ],
      "execution_count": 2,
      "outputs": [
        {
          "output_type": "stream",
          "text": [
            "[10 20 30 40]\n"
          ],
          "name": "stdout"
        }
      ]
    },
    {
      "cell_type": "code",
      "metadata": {
        "id": "mSK3SBfyQWbs",
        "colab_type": "code",
        "colab": {
          "base_uri": "https://localhost:8080/",
          "height": 51
        },
        "outputId": "b700a6eb-fc92-48d2-814f-cd3bb9b39778"
      },
      "source": [
        "print(type(my_array))\n",
        "print(my_array.shape)"
      ],
      "execution_count": 3,
      "outputs": [
        {
          "output_type": "stream",
          "text": [
            "<class 'numpy.ndarray'>\n",
            "(4,)\n"
          ],
          "name": "stdout"
        }
      ]
    },
    {
      "cell_type": "markdown",
      "metadata": {
        "id": "JGW_EsxFQWbz",
        "colab_type": "text"
      },
      "source": [
        "\"what does the (4,) means ?\\n\",\n",
        "        \"it identifies the number of rows this numpy array contains , ie: 4x1 array or in others words first class array       "
      ]
    },
    {
      "cell_type": "markdown",
      "metadata": {
        "id": "7FWi_IriQWb1",
        "colab_type": "text"
      },
      "source": [
        " \"to change an element in the numpy array , simply refere to the element index and assign the your desired value \""
      ]
    },
    {
      "cell_type": "code",
      "metadata": {
        "id": "SFFysdusQWb2",
        "colab_type": "code",
        "colab": {
          "base_uri": "https://localhost:8080/",
          "height": 34
        },
        "outputId": "abc051ac-44c4-4084-d691-9e4cc8d2d632"
      },
      "source": [
        " my_array[0]=15\n",
        "print(my_array)"
      ],
      "execution_count": 4,
      "outputs": [
        {
          "output_type": "stream",
          "text": [
            "[15 20 30 40]\n"
          ],
          "name": "stdout"
        }
      ]
    },
    {
      "cell_type": "markdown",
      "metadata": {
        "id": "EyI0XwaNQWb-",
        "colab_type": "text"
      },
      "source": [
        " \"whats numpy ?\n",
        "        \n",
        "\"its a main library in python that deals with scientific computing,\n",
        "it provides high performance multi-dimensional array object ie: can deal with more than one dimensional array (2x2, 3x3....etc),\n",
        "    not only but also it facilitates the use of the mathematical operations in case of dealing with such arrays,\n",
        "        "
      ]
    },
    {
      "cell_type": "markdown",
      "metadata": {
        "id": "v_1rdqlwQWb_",
        "colab_type": "text"
      },
      "source": [
        "\"traditional arrays(python_lists) vs Numpy arrays\n",
        "\"The main benefits of using NumPy arrays should be smaller memory consumption and better runtime behavior.      "
      ]
    },
    {
      "cell_type": "code",
      "metadata": {
        "id": "Lc0r0S8xQWcB",
        "colab_type": "code",
        "colab": {
          "base_uri": "https://localhost:8080/",
          "height": 476
        },
        "outputId": "e8554235-78cd-475c-d09d-029af974dd0f"
      },
      "source": [
        "import numpy as np \n",
        "#define an array of numpy\n",
        "my_array=np.array([10,20,30,40])\n",
        "print(my_array)\n",
        "print(type(my_array))\n",
        "print(my_array.shape) \n",
        "# to change ana element in the numpy array , simply refere to the element index and assign the your desired value \"\n",
        "my_array[0]=15\n",
        "print(my_array)\n",
        "# now lets create a multi-dimensional array of dimensions (rank 2 )\"\n",
        "my_new_array=np.array([[10,20,30,40],[50,60,70,80]])\n",
        "print(my_new_array)\n",
        "print(type(my_new_array))\n",
        "print(my_new_array.shape)\n",
        "# \"what if we want to print 2x2 array in numpy ?\"\n",
        "x=np.array([[1,2],[3,4]])\n",
        "print (x)\n",
        "print(x.shape)\n",
        "# **Indexing and Slicing Arrays**\"\n",
        "#\"refering to index-value ,\"it means that we want to call a value by its index , let us see how this is done\"\n",
        "y=np.array([1,2,3,4,5,6,7])\n",
        "print(y)\n",
        "print (y.shape )\n",
        "#let us print the first element of this numpy array denoted by the index zero \",\n",
        "#just a reminder the element in the array = index-1\",\n",
        "#element value which is equal to one is considered the first element in the numpy\",\n",
        "#with index of zero\",\n",
        "#\"print(\\\"first element in the numpy array:\\\",y[0])\",\n",
        "#if we want to print elements from index 0 to 3\\n\",\n",
        "#print(\\\"first three elements are\\\",y[0:3])\"\n",
        "# **Creating Automatic Arrays**\",\n",
        "# \"1.   creating zeros array\",\n",
        "# \"2.   creating ones arrayn\",\n",
        "# \"3.   creating constant_type arrays\",\n",
        "# \"4.   creating identity array(identity_matrix)\",\n",
        "# \"5.   creating random_type_arrays\",\n",
        "#creating an automatic_zeros_array\",\n",
        "zero_array=np.zeros((3,3))\n",
        "print(zero_array)\n",
        "#creating an automatic ones array\",\n",
        "one_array=np.ones((3,3))\n",
        "print(one_array)\n",
        "#creating constant type array, here we should choose a number that will be constant \n",
        "#and pass it to the numpy array , i choose here no.7,\n",
        "c_array=np.full((3,3),7)\n",
        "print(c_array)\n",
        "#the identity matrix eye_array\n",
        "eye_matrix=np.eye(3)\n",
        "print(eye_matrix)\n",
        "#the random array\",\n",
        "R=np.random.random((3,3))\n",
        "print(R[0:2])\n",
        "# **NumPy Data Types** \",\n",
        "# we will go for now for 3 main data types in numbers(we wont talk about strings now)\",\n",
        "# \"1.   integers \",\n",
        "# \"2.   floats ( pointed numbers )\",\n",
        "# \"3.   complex numbers ( rarely used in our course)"
      ],
      "execution_count": 5,
      "outputs": [
        {
          "output_type": "stream",
          "text": [
            "[10 20 30 40]\n",
            "<class 'numpy.ndarray'>\n",
            "(4,)\n",
            "[15 20 30 40]\n",
            "[[10 20 30 40]\n",
            " [50 60 70 80]]\n",
            "<class 'numpy.ndarray'>\n",
            "(2, 4)\n",
            "[[1 2]\n",
            " [3 4]]\n",
            "(2, 2)\n",
            "[1 2 3 4 5 6 7]\n",
            "(7,)\n",
            "[[0. 0. 0.]\n",
            " [0. 0. 0.]\n",
            " [0. 0. 0.]]\n",
            "[[1. 1. 1.]\n",
            " [1. 1. 1.]\n",
            " [1. 1. 1.]]\n",
            "[[7 7 7]\n",
            " [7 7 7]\n",
            " [7 7 7]]\n",
            "[[1. 0. 0.]\n",
            " [0. 1. 0.]\n",
            " [0. 0. 1.]]\n",
            "[[0.02537649 0.01346675 0.9530552 ]\n",
            " [0.40576591 0.9117686  0.91799261]]\n"
          ],
          "name": "stdout"
        }
      ]
    },
    {
      "cell_type": "code",
      "metadata": {
        "id": "jEOgAtn1QWcI",
        "colab_type": "code",
        "colab": {
          "base_uri": "https://localhost:8080/",
          "height": 748
        },
        "outputId": "0c7d4991-2efb-4e06-875f-608aab3f33c9"
      },
      "source": [
        "import numpy as np\n",
        "x = np.array([1, 2])   # Let numpy choose the datatype\",\n",
        "print(x.dtype)         # Prints \\\"int64\\\"\\n\",\n",
        "x = np.array([1.0, 2.0])   # Let numpy choose the datatype\",\n",
        "print(x.dtype)             # Prints \\\"float64\\\",\n",
        "x = np.array([1, 2], dtype=np.int64)   # Force a particular datatype\",\n",
        "print(x.dtype) \n",
        "# **Basic Mathematical Operations (arithmatic operations )**\n",
        "import numpy as np\n",
        "x = np.array([[10,20],[30,40]], dtype=np.float64)\n",
        "y = np.array([[50,60],[70,80]], dtype=np.float64)\n",
        "print(x.shape)\n",
        "print(y.shape)\n",
        "print(x + y)\n",
        "print(np.add(x, y))\n",
        "# \"the arithmatic add operation can give the same result in both usage \"\n",
        "print(x - y)\n",
        "print(np.subtract(x, y))\n",
        "# \"the arithmatic minus operation can give the same result in both usage \"\n",
        "print(x * y)\n",
        "print(np.multiply(x, y))\n",
        "print(x / y)\n",
        "print(np.divide(x, y))\n",
        "print(np.sqrt(x))\n",
        "# **More Operations on Arrays:**\\n\",\n",
        "#\" (Dot product, Transpose, Broadcasting)\"\n",
        "# **1. Dot product versus element wise multiplication**\\n\"\n",
        "import numpy as np\n",
        "x = np.array([[1,2],[3,4]])\n",
        "y = np.array([[5,6],[7,8]])\n",
        "v = np.array([9,10])\n",
        "w = np.array([11, 12])\n",
        "print(v.shape)\n",
        "print(v.dot(w))\n",
        "print(x.dot(v))\n",
        "print(x.dot(y))\n",
        "# \"**2. Transpose**\"\n",
        "import numpy as np\n",
        "x=np.array([[1,2],[3,4]])\n",
        "print(x)\n",
        "print(x.T)\n",
        "v=np.array([1,2,3])\n",
        "print(v)\n",
        "print(v.T)\n",
        "print(v.shape)\n",
        "# \"**3. Broadcasting**\n",
        "import numpy as np\n",
        "x=np.array([[1,2,3],[4,5,6],[7,8,9],[10,11,12]])\n",
        "v=np.array([1,0,1])\n",
        "vv=np.tile(v,(4,1))\n",
        "print(vv)\n",
        "import numpy as np\n",
        "x=np.array([[1,2,3],[4,5,6],[7,8,9],[10,11,12]])\n",
        "v=np.array([1,0,1])\n",
        "sum_of_vectors=x+v\n",
        "print(sum_of_vectors)"
      ],
      "execution_count": 6,
      "outputs": [
        {
          "output_type": "stream",
          "text": [
            "int64\n",
            "float64\n",
            "int64\n",
            "(2, 2)\n",
            "(2, 2)\n",
            "[[ 60.  80.]\n",
            " [100. 120.]]\n",
            "[[ 60.  80.]\n",
            " [100. 120.]]\n",
            "[[-40. -40.]\n",
            " [-40. -40.]]\n",
            "[[-40. -40.]\n",
            " [-40. -40.]]\n",
            "[[ 500. 1200.]\n",
            " [2100. 3200.]]\n",
            "[[ 500. 1200.]\n",
            " [2100. 3200.]]\n",
            "[[0.2        0.33333333]\n",
            " [0.42857143 0.5       ]]\n",
            "[[0.2        0.33333333]\n",
            " [0.42857143 0.5       ]]\n",
            "[[3.16227766 4.47213595]\n",
            " [5.47722558 6.32455532]]\n",
            "(2,)\n",
            "219\n",
            "[29 67]\n",
            "[[19 22]\n",
            " [43 50]]\n",
            "[[1 2]\n",
            " [3 4]]\n",
            "[[1 3]\n",
            " [2 4]]\n",
            "[1 2 3]\n",
            "[1 2 3]\n",
            "(3,)\n",
            "[[1 0 1]\n",
            " [1 0 1]\n",
            " [1 0 1]\n",
            " [1 0 1]]\n",
            "[[ 2  2  4]\n",
            " [ 5  5  7]\n",
            " [ 8  8 10]\n",
            " [11 11 13]]\n"
          ],
          "name": "stdout"
        }
      ]
    }
  ]
}